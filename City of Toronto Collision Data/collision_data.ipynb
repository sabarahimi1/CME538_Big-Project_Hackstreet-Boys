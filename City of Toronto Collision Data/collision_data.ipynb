{
 "cells": [
  {
   "cell_type": "markdown",
   "id": "14afeeec",
   "metadata": {},
   "source": [
    "## City of Toronto Collisions Data\n",
    "\n",
    "\n",
    "The Total Collisions Dataset is a CSV file containing detailed records of motor vehicle collisions within the City of Toronto. The dataset uses the WGS84 Coordinate Reference System, ensuring consistent geographic representation of collision locations. Key attributes include the geographic location of each collision, whether it resulted in a fatality or injury, and the timestamp of the event. For our analysis, we will focus on data from 2021 to 2024 to align with recent census data, providing insights into contemporary trends and patterns in collisions. Additionally, the dataset may include supplementary fields such as road conditions, weather visibility, and types of vehicles involved, offering a comprehensive view of the contributing factors to these incidents. By analyzing this dataset, we aim to identify high-risk areas and underlying causes of collisions to inform preventative strategies and improve road safety."
   ]
  },
  {
   "cell_type": "markdown",
   "id": "7a60b76b",
   "metadata": {},
   "source": [
    "## Setup Notebook"
   ]
  },
  {
   "cell_type": "code",
   "execution_count": 4,
   "id": "2ace08f7",
   "metadata": {},
   "outputs": [],
   "source": [
    "# Import 3rd party libraries\n",
    "import numpy as np\n",
    "import pandas as pd\n",
    "import seaborn as sns\n",
    "import matplotlib.pylab as plt\n",
    "import geopandas as gpd\n",
    "import matplotlib.pyplot as plt\n",
    "import folium\n",
    "from IPython.display import display\n",
    "\n",
    "# Configure Notebook\n",
    "%matplotlib inline\n",
    "plt.style.use('fivethirtyeight')\n",
    "sns.set_context(\"notebook\")\n",
    "import warnings\n",
    "warnings.filterwarnings('ignore')"
   ]
  },
  {
   "cell_type": "markdown",
   "id": "74a11306",
   "metadata": {},
   "source": [
    "## Import GeoJson Data"
   ]
  },
  {
   "cell_type": "code",
   "execution_count": 5,
   "id": "18dbe477",
   "metadata": {},
   "outputs": [
    {
     "ename": "FileNotFoundError",
     "evalue": "[Errno 2] No such file or directory: '/mnt/data/FATALS_KSI_4359710384762535516.geojson'",
     "output_type": "error",
     "traceback": [
      "\u001b[0;31m---------------------------------------------------------------------------\u001b[0m",
      "\u001b[0;31mFileNotFoundError\u001b[0m                         Traceback (most recent call last)",
      "\u001b[0;32m<ipython-input-5-9609b66ae106>\u001b[0m in \u001b[0;36m<module>\u001b[0;34m\u001b[0m\n\u001b[1;32m      6\u001b[0m \u001b[0;31m# Add GeoJSON data to the map\u001b[0m\u001b[0;34m\u001b[0m\u001b[0;34m\u001b[0m\u001b[0;34m\u001b[0m\u001b[0m\n\u001b[1;32m      7\u001b[0m \u001b[0mgeojson_file_path\u001b[0m \u001b[0;34m=\u001b[0m \u001b[0;34m\"/mnt/data/FATALS_KSI_4359710384762535516.geojson\"\u001b[0m\u001b[0;34m\u001b[0m\u001b[0;34m\u001b[0m\u001b[0m\n\u001b[0;32m----> 8\u001b[0;31m \u001b[0mfolium\u001b[0m\u001b[0;34m.\u001b[0m\u001b[0mGeoJson\u001b[0m\u001b[0;34m(\u001b[0m\u001b[0mgeojson_file_path\u001b[0m\u001b[0;34m,\u001b[0m \u001b[0mname\u001b[0m\u001b[0;34m=\u001b[0m\u001b[0;34m\"Collision Data\"\u001b[0m\u001b[0;34m)\u001b[0m\u001b[0;34m.\u001b[0m\u001b[0madd_to\u001b[0m\u001b[0;34m(\u001b[0m\u001b[0mmap_2\u001b[0m\u001b[0;34m)\u001b[0m\u001b[0;34m\u001b[0m\u001b[0;34m\u001b[0m\u001b[0m\n\u001b[0m\u001b[1;32m      9\u001b[0m \u001b[0;34m\u001b[0m\u001b[0m\n\u001b[1;32m     10\u001b[0m \u001b[0;31m# Display the map directly in the notebook\u001b[0m\u001b[0;34m\u001b[0m\u001b[0;34m\u001b[0m\u001b[0;34m\u001b[0m\u001b[0m\n",
      "\u001b[0;32m/Library/Frameworks/Python.framework/Versions/3.7/lib/python3.7/site-packages/folium/features.py\u001b[0m in \u001b[0;36m__init__\u001b[0;34m(self, data, style_function, highlight_function, popup_keep_highlighted, name, overlay, control, show, smooth_factor, tooltip, embed, popup, zoom_on_click, marker, **kwargs)\u001b[0m\n\u001b[1;32m    691\u001b[0m         \u001b[0mself\u001b[0m\u001b[0;34m.\u001b[0m\u001b[0moptions\u001b[0m \u001b[0;34m=\u001b[0m \u001b[0mparse_options\u001b[0m\u001b[0;34m(\u001b[0m\u001b[0;34m**\u001b[0m\u001b[0mkwargs\u001b[0m\u001b[0;34m)\u001b[0m\u001b[0;34m\u001b[0m\u001b[0;34m\u001b[0m\u001b[0m\n\u001b[1;32m    692\u001b[0m \u001b[0;34m\u001b[0m\u001b[0m\n\u001b[0;32m--> 693\u001b[0;31m         \u001b[0mself\u001b[0m\u001b[0;34m.\u001b[0m\u001b[0mdata\u001b[0m \u001b[0;34m=\u001b[0m \u001b[0mself\u001b[0m\u001b[0;34m.\u001b[0m\u001b[0mprocess_data\u001b[0m\u001b[0;34m(\u001b[0m\u001b[0mdata\u001b[0m\u001b[0;34m)\u001b[0m\u001b[0;34m\u001b[0m\u001b[0;34m\u001b[0m\u001b[0m\n\u001b[0m\u001b[1;32m    694\u001b[0m \u001b[0;34m\u001b[0m\u001b[0m\n\u001b[1;32m    695\u001b[0m         \u001b[0;32mif\u001b[0m \u001b[0mself\u001b[0m\u001b[0;34m.\u001b[0m\u001b[0mstyle\u001b[0m \u001b[0;32mor\u001b[0m \u001b[0mself\u001b[0m\u001b[0;34m.\u001b[0m\u001b[0mhighlight\u001b[0m\u001b[0;34m:\u001b[0m\u001b[0;34m\u001b[0m\u001b[0;34m\u001b[0m\u001b[0m\n",
      "\u001b[0;32m/Library/Frameworks/Python.framework/Versions/3.7/lib/python3.7/site-packages/folium/features.py\u001b[0m in \u001b[0;36mprocess_data\u001b[0;34m(self, data)\u001b[0m\n\u001b[1;32m    728\u001b[0m                 \u001b[0;32mif\u001b[0m \u001b[0;32mnot\u001b[0m \u001b[0mself\u001b[0m\u001b[0;34m.\u001b[0m\u001b[0membed\u001b[0m\u001b[0;34m:\u001b[0m\u001b[0;34m\u001b[0m\u001b[0;34m\u001b[0m\u001b[0m\n\u001b[1;32m    729\u001b[0m                     \u001b[0mself\u001b[0m\u001b[0;34m.\u001b[0m\u001b[0membed_link\u001b[0m \u001b[0;34m=\u001b[0m \u001b[0mdata\u001b[0m\u001b[0;34m\u001b[0m\u001b[0;34m\u001b[0m\u001b[0m\n\u001b[0;32m--> 730\u001b[0;31m                 \u001b[0;32mwith\u001b[0m \u001b[0mopen\u001b[0m\u001b[0;34m(\u001b[0m\u001b[0mdata\u001b[0m\u001b[0;34m)\u001b[0m \u001b[0;32mas\u001b[0m \u001b[0mf\u001b[0m\u001b[0;34m:\u001b[0m\u001b[0;34m\u001b[0m\u001b[0;34m\u001b[0m\u001b[0m\n\u001b[0m\u001b[1;32m    731\u001b[0m                     \u001b[0;32mreturn\u001b[0m \u001b[0mjson\u001b[0m\u001b[0;34m.\u001b[0m\u001b[0mloads\u001b[0m\u001b[0;34m(\u001b[0m\u001b[0mf\u001b[0m\u001b[0;34m.\u001b[0m\u001b[0mread\u001b[0m\u001b[0;34m(\u001b[0m\u001b[0;34m)\u001b[0m\u001b[0;34m)\u001b[0m\u001b[0;34m\u001b[0m\u001b[0;34m\u001b[0m\u001b[0m\n\u001b[1;32m    732\u001b[0m         \u001b[0;32melif\u001b[0m \u001b[0mhasattr\u001b[0m\u001b[0;34m(\u001b[0m\u001b[0mdata\u001b[0m\u001b[0;34m,\u001b[0m \u001b[0;34m\"__geo_interface__\"\u001b[0m\u001b[0;34m)\u001b[0m\u001b[0;34m:\u001b[0m\u001b[0;34m\u001b[0m\u001b[0;34m\u001b[0m\u001b[0m\n",
      "\u001b[0;31mFileNotFoundError\u001b[0m: [Errno 2] No such file or directory: '/mnt/data/FATALS_KSI_4359710384762535516.geojson'"
     ]
    }
   ],
   "source": [
    "# Create a base map\n",
    "map_2 = folium.Map(location=[43.6426, -79.3871], \n",
    "                   tiles='OpenStreetMap', \n",
    "                   zoom_start=10)\n",
    "\n",
    "# Add GeoJSON data to the map\n",
    "geojson_file_path = \"/mnt/data/FATALS_KSI_4359710384762535516.geojson\"\n",
    "folium.GeoJson(geojson_file_path, name=\"Collision Data\").add_to(map_2)\n",
    "\n",
    "# Display the map directly in the notebook\n",
    "display(map_2)"
   ]
  },
  {
   "cell_type": "code",
   "execution_count": 2,
   "id": "2c6cddbf",
   "metadata": {},
   "outputs": [
    {
     "data": {
      "text/html": [
       "<div>\n",
       "<style scoped>\n",
       "    .dataframe tbody tr th:only-of-type {\n",
       "        vertical-align: middle;\n",
       "    }\n",
       "\n",
       "    .dataframe tbody tr th {\n",
       "        vertical-align: top;\n",
       "    }\n",
       "\n",
       "    .dataframe thead th {\n",
       "        text-align: right;\n",
       "    }\n",
       "</style>\n",
       "<table border=\"1\" class=\"dataframe\">\n",
       "  <thead>\n",
       "    <tr style=\"text-align: right;\">\n",
       "      <th></th>\n",
       "      <th>OBJECTID</th>\n",
       "      <th>INDEX</th>\n",
       "      <th>ACCNUM</th>\n",
       "      <th>DATE</th>\n",
       "      <th>TIME</th>\n",
       "      <th>STREET1</th>\n",
       "      <th>STREET2</th>\n",
       "      <th>OFFSET</th>\n",
       "      <th>ROAD_CLASS</th>\n",
       "      <th>DISTRICT</th>\n",
       "      <th>...</th>\n",
       "      <th>REDLIGHT</th>\n",
       "      <th>ALCOHOL</th>\n",
       "      <th>DISABILITY</th>\n",
       "      <th>HOOD_158</th>\n",
       "      <th>NEIGHBOURHOOD_158</th>\n",
       "      <th>HOOD_140</th>\n",
       "      <th>NEIGHBOURHOOD_140</th>\n",
       "      <th>DIVISION</th>\n",
       "      <th>x</th>\n",
       "      <th>y</th>\n",
       "    </tr>\n",
       "  </thead>\n",
       "  <tbody>\n",
       "    <tr>\n",
       "      <th>0</th>\n",
       "      <td>1</td>\n",
       "      <td>3363207</td>\n",
       "      <td>882024.0</td>\n",
       "      <td>1/7/2006 5:00:00 AM</td>\n",
       "      <td>2325</td>\n",
       "      <td>STEELES AVE E</td>\n",
       "      <td>NINTH LINE ST</td>\n",
       "      <td>NaN</td>\n",
       "      <td>Minor Arterial</td>\n",
       "      <td>Scarborough</td>\n",
       "      <td>...</td>\n",
       "      <td>NaN</td>\n",
       "      <td>NaN</td>\n",
       "      <td>NaN</td>\n",
       "      <td>144</td>\n",
       "      <td>Morningside Heights</td>\n",
       "      <td>131</td>\n",
       "      <td>Rouge (131)</td>\n",
       "      <td>D42</td>\n",
       "      <td>642702.497370</td>\n",
       "      <td>4.855938e+06</td>\n",
       "    </tr>\n",
       "    <tr>\n",
       "      <th>1</th>\n",
       "      <td>2</td>\n",
       "      <td>3363869</td>\n",
       "      <td>882497.0</td>\n",
       "      <td>1/8/2006 5:00:00 AM</td>\n",
       "      <td>1828</td>\n",
       "      <td>ISLINGTON AVE</td>\n",
       "      <td>GOLFDOWN DR</td>\n",
       "      <td>NaN</td>\n",
       "      <td>Major Arterial</td>\n",
       "      <td>Etobicoke York</td>\n",
       "      <td>...</td>\n",
       "      <td>NaN</td>\n",
       "      <td>NaN</td>\n",
       "      <td>NaN</td>\n",
       "      <td>5</td>\n",
       "      <td>Elms-Old Rexdale</td>\n",
       "      <td>5</td>\n",
       "      <td>Elms-Old Rexdale (5)</td>\n",
       "      <td>D23</td>\n",
       "      <td>616144.186758</td>\n",
       "      <td>4.841944e+06</td>\n",
       "    </tr>\n",
       "    <tr>\n",
       "      <th>2</th>\n",
       "      <td>3</td>\n",
       "      <td>3363416</td>\n",
       "      <td>882174.0</td>\n",
       "      <td>1/9/2006 5:00:00 AM</td>\n",
       "      <td>1435</td>\n",
       "      <td>KENNEDY RD</td>\n",
       "      <td>GLAMORGAN AVE</td>\n",
       "      <td>NaN</td>\n",
       "      <td>Major Arterial</td>\n",
       "      <td>Scarborough</td>\n",
       "      <td>...</td>\n",
       "      <td>NaN</td>\n",
       "      <td>NaN</td>\n",
       "      <td>NaN</td>\n",
       "      <td>126</td>\n",
       "      <td>Dorset Park</td>\n",
       "      <td>126</td>\n",
       "      <td>Dorset Park (126)</td>\n",
       "      <td>D41</td>\n",
       "      <td>638249.238267</td>\n",
       "      <td>4.847699e+06</td>\n",
       "    </tr>\n",
       "    <tr>\n",
       "      <th>3</th>\n",
       "      <td>4</td>\n",
       "      <td>3363879</td>\n",
       "      <td>882501.0</td>\n",
       "      <td>1/11/2006 5:00:00 AM</td>\n",
       "      <td>1120</td>\n",
       "      <td>BARTLEY DR</td>\n",
       "      <td>JINNAH CRT</td>\n",
       "      <td>NaN</td>\n",
       "      <td>Collector</td>\n",
       "      <td>North York</td>\n",
       "      <td>...</td>\n",
       "      <td>NaN</td>\n",
       "      <td>NaN</td>\n",
       "      <td>NaN</td>\n",
       "      <td>43</td>\n",
       "      <td>Victoria Village</td>\n",
       "      <td>43</td>\n",
       "      <td>Victoria Village (43)</td>\n",
       "      <td>D55</td>\n",
       "      <td>636288.290910</td>\n",
       "      <td>4.842392e+06</td>\n",
       "    </tr>\n",
       "    <tr>\n",
       "      <th>4</th>\n",
       "      <td>5</td>\n",
       "      <td>3371161</td>\n",
       "      <td>886230.0</td>\n",
       "      <td>1/21/2006 5:00:00 AM</td>\n",
       "      <td>1829</td>\n",
       "      <td>MIDLAND AVE</td>\n",
       "      <td>GOODLAND GT</td>\n",
       "      <td>NaN</td>\n",
       "      <td>Major Arterial</td>\n",
       "      <td>Scarborough</td>\n",
       "      <td>...</td>\n",
       "      <td>NaN</td>\n",
       "      <td>NaN</td>\n",
       "      <td>NaN</td>\n",
       "      <td>128</td>\n",
       "      <td>Agincourt South-Malvern West</td>\n",
       "      <td>128</td>\n",
       "      <td>Agincourt South-Malvern West (128)</td>\n",
       "      <td>D42</td>\n",
       "      <td>638765.590119</td>\n",
       "      <td>4.848810e+06</td>\n",
       "    </tr>\n",
       "  </tbody>\n",
       "</table>\n",
       "<p>5 rows × 54 columns</p>\n",
       "</div>"
      ],
      "text/plain": [
       "   OBJECTID    INDEX    ACCNUM                  DATE  TIME        STREET1  \\\n",
       "0         1  3363207  882024.0   1/7/2006 5:00:00 AM  2325  STEELES AVE E   \n",
       "1         2  3363869  882497.0   1/8/2006 5:00:00 AM  1828  ISLINGTON AVE   \n",
       "2         3  3363416  882174.0   1/9/2006 5:00:00 AM  1435     KENNEDY RD   \n",
       "3         4  3363879  882501.0  1/11/2006 5:00:00 AM  1120     BARTLEY DR   \n",
       "4         5  3371161  886230.0  1/21/2006 5:00:00 AM  1829    MIDLAND AVE   \n",
       "\n",
       "         STREET2 OFFSET      ROAD_CLASS        DISTRICT  ...  REDLIGHT  \\\n",
       "0  NINTH LINE ST    NaN  Minor Arterial     Scarborough  ...       NaN   \n",
       "1    GOLFDOWN DR    NaN  Major Arterial  Etobicoke York  ...       NaN   \n",
       "2  GLAMORGAN AVE    NaN  Major Arterial     Scarborough  ...       NaN   \n",
       "3     JINNAH CRT    NaN       Collector      North York  ...       NaN   \n",
       "4    GOODLAND GT    NaN  Major Arterial     Scarborough  ...       NaN   \n",
       "\n",
       "   ALCOHOL DISABILITY HOOD_158             NEIGHBOURHOOD_158 HOOD_140  \\\n",
       "0      NaN        NaN      144           Morningside Heights      131   \n",
       "1      NaN        NaN        5              Elms-Old Rexdale        5   \n",
       "2      NaN        NaN      126                   Dorset Park      126   \n",
       "3      NaN        NaN       43              Victoria Village       43   \n",
       "4      NaN        NaN      128  Agincourt South-Malvern West      128   \n",
       "\n",
       "                    NEIGHBOURHOOD_140 DIVISION              x             y  \n",
       "0                         Rouge (131)      D42  642702.497370  4.855938e+06  \n",
       "1                Elms-Old Rexdale (5)      D23  616144.186758  4.841944e+06  \n",
       "2                   Dorset Park (126)      D41  638249.238267  4.847699e+06  \n",
       "3               Victoria Village (43)      D55  636288.290910  4.842392e+06  \n",
       "4  Agincourt South-Malvern West (128)      D42  638765.590119  4.848810e+06  \n",
       "\n",
       "[5 rows x 54 columns]"
      ]
     },
     "execution_count": 2,
     "metadata": {},
     "output_type": "execute_result"
    }
   ],
   "source": [
    "# Import dataset as a DataFrane\n",
    "collision = gpd.read_file('FATALS_KSI_4359710384762535516.geojson')\n",
    "\n",
    "# View DataFrame\n",
    "collision.head()"
   ]
  },
  {
   "cell_type": "markdown",
   "id": "e06a6709",
   "metadata": {},
   "source": [
    "## Data Analysis"
   ]
  },
  {
   "cell_type": "code",
   "execution_count": 3,
   "id": "281f526f",
   "metadata": {},
   "outputs": [
    {
     "data": {
      "text/plain": [
       "(976, 54)"
      ]
     },
     "execution_count": 3,
     "metadata": {},
     "output_type": "execute_result"
    }
   ],
   "source": [
    "# Check the number of columns and rows\n",
    "collision.shape"
   ]
  },
  {
   "cell_type": "code",
   "execution_count": 4,
   "id": "9eac14d2",
   "metadata": {},
   "outputs": [
    {
     "data": {
      "text/plain": [
       "Index(['OBJECTID', 'INDEX', 'ACCNUM', 'DATE', 'TIME', 'STREET1', 'STREET2',\n",
       "       'OFFSET', 'ROAD_CLASS', 'DISTRICT', 'LATITUDE', 'LONGITUDE', 'ACCLOC',\n",
       "       'TRAFFCTL', 'VISIBILITY', 'LIGHT', 'RDSFCOND', 'ACCLASS', 'IMPACTYPE',\n",
       "       'INVTYPE', 'INVAGE', 'INJURY', 'FATAL_NO', 'INITDIR', 'VEHTYPE',\n",
       "       'MANOEUVER', 'DRIVACT', 'DRIVCOND', 'PEDTYPE', 'PEDACT', 'PEDCOND',\n",
       "       'CYCLISTYPE', 'CYCACT', 'CYCCOND', 'PEDESTRIAN', 'CYCLIST',\n",
       "       'AUTOMOBILE', 'MOTORCYCLE', 'TRUCK', 'TRSN_CITY_VEH', 'EMERG_VEH',\n",
       "       'PASSENGER', 'SPEEDING', 'AG_DRIV', 'REDLIGHT', 'ALCOHOL', 'DISABILITY',\n",
       "       'HOOD_158', 'NEIGHBOURHOOD_158', 'HOOD_140', 'NEIGHBOURHOOD_140',\n",
       "       'DIVISION', 'x', 'y'],\n",
       "      dtype='object')"
      ]
     },
     "execution_count": 4,
     "metadata": {},
     "output_type": "execute_result"
    }
   ],
   "source": [
    "# Check the columns in DataFrame\n",
    "collision.columns"
   ]
  },
  {
   "cell_type": "markdown",
   "id": "2bd39121",
   "metadata": {},
   "source": [
    "Based on the Toronto Police Service's Traffic Collisions Open Data (ASR-T-TBL-001), here is a description of each column in the dataset:\n",
    "\n",
    "- OBJECTID: Unique identifier for each record in the dataset.\n",
    "- INDEX: Sequential number assigned to each collision event.\n",
    "- ACCNUM: Unique accident number assigned by the police.\n",
    "- DATE: Date when the collision occurred.\n",
    "- TIME: Time of day when the collision occurred.\n",
    "- STREET1: Primary street where the collision took place.\n",
    "- STREET2: Secondary street involved in the collision (if applicable).\n",
    "- OFFSET: Distance from the intersection or reference point.\n",
    "- ROAD_CLASS: Classification of the road (e.g., arterial, collector).\n",
    "- DISTRICT: Police district where the collision occurred.\n",
    "- LATITUDE: Geographic latitude coordinate of the collision location.\n",
    "- LONGITUDE: Geographic longitude coordinate of the collision location.\n",
    "- ACCLOC: Specific location details of the accident.\n",
    "- TRAFFCTL: Type of traffic control present at the collision site.\n",
    "- VISIBILITY: Visibility conditions at the time of the collision.\n",
    "- LIGHT: Lighting conditions during the collision (e.g., daylight, dark).\n",
    "- RDSFCOND: Road surface conditions at the time of the collision.\n",
    "- ACCLASS: Classification of the accident (e.g., fatal, non-fatal injury).\n",
    "- IMPACTYPE: Type of impact during the collision (e.g., rear-end, side).\n",
    "- INVTYPE: Type of individuals involved (e.g., driver, pedestrian).\n",
    "- INVAGE: Age of the individuals involved in the collision.\n",
    "- INJURY: Severity of injuries sustained (e.g., none, minor, fatal).\n",
    "- FATAL_NO: Number of fatalities resulting from the collision.\n",
    "- INITDIR: Initial direction of travel of the vehicles involved.\n",
    "- VEHTYPE: Type of vehicles involved in the collision.\n",
    "- MANOEUVER: Maneuver being performed by the vehicle at the time of collision.\n",
    "- DRIVACT: Driver's action leading up to the collision.\n",
    "- DRIVCOND: Driver's condition at the time of the collision (e.g., normal, impaired).\n",
    "- PEDTYPE: Type of pedestrian involved (if applicable).\n",
    "- PEDACT: Pedestrian's action leading up to the collision.\n",
    "- PEDCOND: Pedestrian's condition at the time of the collision.\n",
    "- CYCLISTYPE: Type of cyclist involved (if applicable).\n",
    "- CYCACT: Cyclist's action leading up to the collision.\n",
    "- CYCCOND: Cyclist's condition at the time of the collision.\n",
    "- PEDESTRIAN: Indicator if a pedestrian was involved.\n",
    "- CYCLIST: Indicator if a cyclist was involved.\n",
    "- AUTOMOBILE: Indicator if an automobile was involved.\n",
    "- MOTORCYCLE: Indicator if a motorcycle was involved.\n",
    "- TRUCK: Indicator if a truck was involved.\n",
    "- TRSN_CITY_VEH: Indicator if a city transit vehicle was involved.\n",
    "- EMERG_VEH: Indicator if an emergency vehicle was involved.\n",
    "- PASSENGER: Indicator if passengers were involved.\n",
    "- SPEEDING: Indicator if speeding was a factor.\n",
    "- AG_DRIV: Indicator if aggressive driving was a factor.\n",
    "- REDLIGHT: Indicator if running a red light was a factor.\n",
    "- ALCOHOL: Indicator if alcohol was a factor.\n",
    "- DISABILITY: Indicator if a disability was a factor.\n",
    "- HOOD_158: Neighborhood identifier based on 158 neighborhood divisions.\n",
    "- NEIGHBOURHOOD_158: Name of the neighborhood (158 divisions).\n",
    "- HOOD_140: Neighborhood identifier based on 140 neighborhood divisions.\n",
    "- NEIGHBOURHOOD_140: Name of the neighborhood (140 divisions).\n",
    "- DIVISION: Police division responsible for the area.\n",
    "- x: X-coordinate in a projected coordinate system.\n",
    "- y: Y-coordinate in a projected coordinate system."
   ]
  },
  {
   "cell_type": "markdown",
   "id": "a92b43bf",
   "metadata": {},
   "source": [
    "\n",
    "To identify collision patterns within an area, not all columns in the dataset are essential. Below is an analysis of columns that can be dropped because they do not directly contribute to the understanding of collision patterns:\n",
    "- OBJECTID: Unique record identifier; not useful for analysis.\n",
    "- INDEX: Sequential numbering of collisions; redundant information.\n",
    "- ACCNUM: Police-assigned accident number; not relevant for pattern analysis.\n",
    "- OFFSET: Distance from a reference point; not essential for broad collision patterns.\n",
    "- HOOD_158: Numeric neighborhood identifier (already represented by NEIGHBOURHOOD_158).\n",
    "- NEIGHBOURHOOD_158: Neighborhood name with 158 divisions; redundant if you use the 140-division version.\n",
    "- HOOD_140: Numeric neighborhood identifier (already represented by NEIGHBOURHOOD_140).\n",
    "- x and y: Projected coordinate system values; not needed if LATITUDE and LONGITUDE are available.\n",
    "- INITDIR: Initial direction of travel; unlikely to impact spatial collision patterns.\n",
    "- TRAFFCTL: Type of traffic control; may not directly impact patterns in broader spatial or temporal analysis.\n",
    "- INVTYPE: Type of individuals involved; focuses on the individuals rather than collision patterns.\n",
    "- PEDTYPE, PEDACT, PEDCOND: Focus on pedestrian-specific details; drop if your analysis isn’t focused on pedestrian collisions.\n",
    "- CYCLISTYPE, CYCACT, CYCCOND: Focus on cyclist-specific details; drop if your analysis isn’t focused on cyclist collisions.\n",
    "- PASSENGER: Indicator for passengers involved; does not directly contribute to spatial or temporal patterns.\n",
    "- TRSN_CITY_VEH: Indicator for transit vehicles; drop unless public transit-related collisions are of interest.\n",
    "- DIVISION: Police division; not directly linked to spatial collision patterns if geographic data is already included.\n",
    "- STREET1, STREET2, DISTRICT: Don't need as the coordinates are being used and can be connected to the Wards dataset.\n"
   ]
  },
  {
   "cell_type": "markdown",
   "id": "5de1d42e",
   "metadata": {},
   "source": [
    "Columns to Retain for Identifying Collision Patterns:\n",
    "- DATE and TIME: Critical for understanding temporal collision patterns.\n",
    "- LATITUDE and LONGITUDE: Key for mapping spatial collision patterns.\n",
    "- ROAD_CLASS: Helps identify patterns based on road types.\n",
    "- VISIBILITY and LIGHT: Key environmental factors affecting collisions.\n",
    "- RDSFCOND: Road surface conditions, which can reveal environmental hazards.\n",
    "- ACCLASS: Classification of the accident (fatal, non-fatal injury) for severity analysis.\n",
    "- IMPACTYPE: Helps identify common collision types within an area.\n",
    "- FATAL_NO: Indicates fatalities, important for severity analysis.\n",
    "- SPEEDING, AG_DRIV, REDLIGHT, ALCOHOL: Critical behavioral factors contributing to collision patterns.\n",
    "- NEIGHBOURHOOD_140: Simplified neighborhood representation for spatial analysis.\n",
    "- AUTOMOBILE, MOTORCYCLE, TRUCK: Helps identify vehicle types commonly involved in collisions."
   ]
  },
  {
   "cell_type": "code",
   "execution_count": 5,
   "id": "e8b204c6",
   "metadata": {},
   "outputs": [
    {
     "data": {
      "text/plain": [
       "Index(['DATE', 'TIME', 'ROAD_CLASS', 'LATITUDE', 'LONGITUDE', 'ACCLOC',\n",
       "       'VISIBILITY', 'LIGHT', 'RDSFCOND', 'ACCLASS', 'IMPACTYPE', 'INVAGE',\n",
       "       'INJURY', 'FATAL_NO', 'VEHTYPE', 'MANOEUVER', 'DRIVACT', 'DRIVCOND',\n",
       "       'PEDESTRIAN', 'CYCLIST', 'AUTOMOBILE', 'MOTORCYCLE', 'TRUCK',\n",
       "       'EMERG_VEH', 'SPEEDING', 'AG_DRIV', 'REDLIGHT', 'ALCOHOL', 'DISABILITY',\n",
       "       'NEIGHBOURHOOD_140'],\n",
       "      dtype='object')"
      ]
     },
     "execution_count": 5,
     "metadata": {},
     "output_type": "execute_result"
    }
   ],
   "source": [
    "# Drop columns \n",
    "collision = collision.drop(columns = ['OBJECTID', 'INDEX', 'ACCNUM', 'OFFSET', 'HOOD_158', 'NEIGHBOURHOOD_158','HOOD_140', 'x', 'y', 'INITDIR', \n",
    "                   'TRAFFCTL', 'INVTYPE', 'PEDTYPE', 'PEDACT', 'PEDCOND', 'CYCLISTYPE', 'CYCACT', 'CYCCOND', 'PASSENGER', 'TRSN_CITY_VEH', \n",
    "                   'DIVISION', 'STREET1', 'STREET2', 'DISTRICT', ], errors='ignore')\n",
    "\n",
    "# Check if columns are removed\n",
    "collision.columns"
   ]
  },
  {
   "cell_type": "code",
   "execution_count": 6,
   "id": "075d9efb",
   "metadata": {},
   "outputs": [
    {
     "name": "stdout",
     "output_type": "stream",
     "text": [
      "DATE                  object\n",
      "TIME                   int64\n",
      "ROAD_CLASS            object\n",
      "LATITUDE             float64\n",
      "LONGITUDE            float64\n",
      "ACCLOC                object\n",
      "VISIBILITY            object\n",
      "LIGHT                 object\n",
      "RDSFCOND              object\n",
      "ACCLASS               object\n",
      "IMPACTYPE             object\n",
      "INVAGE                object\n",
      "INJURY                object\n",
      "FATAL_NO             float64\n",
      "VEHTYPE               object\n",
      "MANOEUVER             object\n",
      "DRIVACT               object\n",
      "DRIVCOND              object\n",
      "PEDESTRIAN            object\n",
      "CYCLIST               object\n",
      "AUTOMOBILE            object\n",
      "MOTORCYCLE            object\n",
      "TRUCK                 object\n",
      "EMERG_VEH             object\n",
      "SPEEDING              object\n",
      "AG_DRIV               object\n",
      "REDLIGHT              object\n",
      "ALCOHOL               object\n",
      "DISABILITY            object\n",
      "NEIGHBOURHOOD_140     object\n",
      "dtype: object\n"
     ]
    }
   ],
   "source": [
    "# Check data types per column\n",
    "print(collision.dtypes)"
   ]
  },
  {
   "cell_type": "markdown",
   "id": "b302a5f1",
   "metadata": {},
   "source": [
    "## Data Cleaning\n",
    "\n",
    "Data cleaning for the collision dataset ensures:\n",
    "\n",
    "- Accuracy: Removes errors and inconsistencies.\n",
    "- Efficiency: Streamlines the dataset for quicker and easier analysis.\n",
    "- Reliability: Produces trustworthy insights and recommendations.\n",
    "- Focus: Tailors the data for the specific analysis of collision patterns and trends."
   ]
  },
  {
   "cell_type": "code",
   "execution_count": 7,
   "id": "4233291e",
   "metadata": {},
   "outputs": [
    {
     "name": "stdout",
     "output_type": "stream",
     "text": [
      "DATE                   0\n",
      "TIME                   0\n",
      "ROAD_CLASS            25\n",
      "LATITUDE               0\n",
      "LONGITUDE              0\n",
      "ACCLOC               262\n",
      "VISIBILITY            12\n",
      "LIGHT                  2\n",
      "RDSFCOND              13\n",
      "ACCLASS                1\n",
      "IMPACTYPE              1\n",
      "INVAGE                 0\n",
      "INJURY                 0\n",
      "FATAL_NO             111\n",
      "VEHTYPE              417\n",
      "MANOEUVER            642\n",
      "DRIVACT              697\n",
      "DRIVCOND             699\n",
      "PEDESTRIAN           430\n",
      "CYCLIST              930\n",
      "AUTOMOBILE           162\n",
      "MOTORCYCLE           874\n",
      "TRUCK                868\n",
      "EMERG_VEH            975\n",
      "SPEEDING             782\n",
      "AG_DRIV              534\n",
      "REDLIGHT             915\n",
      "ALCOHOL              930\n",
      "DISABILITY           956\n",
      "NEIGHBOURHOOD_140      0\n",
      "dtype: int64\n"
     ]
    }
   ],
   "source": [
    "# Check for missing values\n",
    "print(collision.isnull().sum())"
   ]
  },
  {
   "cell_type": "code",
   "execution_count": 8,
   "id": "7a4e1cdd",
   "metadata": {},
   "outputs": [
    {
     "name": "stdout",
     "output_type": "stream",
     "text": [
      "Imputing missing values in categorical column 'ROAD_CLASS' with mode: 'Major Arterial'\n",
      "Imputing missing values in categorical column 'ACCLOC' with mode: 'At Intersection'\n",
      "Imputing missing values in categorical column 'VISIBILITY' with mode: 'Clear'\n",
      "Imputing missing values in categorical column 'LIGHT' with mode: 'Daylight'\n",
      "Imputing missing values in categorical column 'RDSFCOND' with mode: 'Dry'\n",
      "Imputing missing values in categorical column 'ACCLASS' with mode: 'Fatal'\n",
      "Imputing missing values in categorical column 'IMPACTYPE' with mode: 'Pedestrian Collisions'\n",
      "Imputing missing values in numerical column 'FATAL_NO' with mean: 28.87\n",
      "Imputing missing values in categorical column 'VEHTYPE' with mode: 'Other'\n",
      "Imputing missing values in categorical column 'MANOEUVER' with mode: 'Going Ahead'\n",
      "Imputing missing values in categorical column 'DRIVACT' with mode: 'Lost control'\n",
      "Imputing missing values in categorical column 'DRIVCOND' with mode: 'Unknown'\n",
      "Imputing missing values in categorical column 'PEDESTRIAN' with mode: 'Yes'\n",
      "Imputing missing values in categorical column 'CYCLIST' with mode: 'Yes'\n",
      "Imputing missing values in categorical column 'AUTOMOBILE' with mode: 'Yes'\n",
      "Imputing missing values in categorical column 'MOTORCYCLE' with mode: 'Yes'\n",
      "Imputing missing values in categorical column 'TRUCK' with mode: 'Yes'\n",
      "Imputing missing values in categorical column 'EMERG_VEH' with mode: 'Yes'\n",
      "Imputing missing values in categorical column 'SPEEDING' with mode: 'Yes'\n",
      "Imputing missing values in categorical column 'AG_DRIV' with mode: 'Yes'\n",
      "Imputing missing values in categorical column 'REDLIGHT' with mode: 'Yes'\n",
      "Imputing missing values in categorical column 'ALCOHOL' with mode: 'Yes'\n",
      "Imputing missing values in categorical column 'DISABILITY' with mode: 'Yes'\n"
     ]
    }
   ],
   "source": [
    "# Function to handle missing data for both numerical and categorical columns\n",
    "def handle_missing_data(collision):\n",
    "    for column in collision.columns:\n",
    "        if collision[column].isnull().sum() > 0:  # Check for missing values\n",
    "            if pd.api.types.is_numeric_dtype(collision[column]):\n",
    "                # Numerical data: Use mean or median based on skewness\n",
    "                skewness = collision[column].skew()\n",
    "                if abs(skewness) < 0.5:  # Normally distributed\n",
    "                    impute_value = collision[column].mean()\n",
    "                    print(f\"Imputing missing values in numerical column '{column}' with mean: {impute_value:.2f}\")\n",
    "                else:  # Skewed distribution\n",
    "                    impute_value = collision[column].median()\n",
    "                    print(f\"Imputing missing values in numerical column '{column}' with median: {impute_value:.2f}\")\n",
    "                collision[column].fillna(impute_value, inplace=True)\n",
    "            else:\n",
    "                # Categorical data: Use mode or assign \"Missing\"\n",
    "                mode_value = collision[column].mode()[0]  # Get the most frequent value\n",
    "                print(f\"Imputing missing values in categorical column '{column}' with mode: '{mode_value}'\")\n",
    "                collision[column].fillna(mode_value, inplace=True)\n",
    "    return collision\n",
    "\n",
    "# Handle missing data\n",
    "collision_handled = handle_missing_data(collision)\n"
   ]
  },
  {
   "cell_type": "code",
   "execution_count": 9,
   "id": "8f334877",
   "metadata": {},
   "outputs": [
    {
     "name": "stdout",
     "output_type": "stream",
     "text": [
      "DATE                 0\n",
      "TIME                 0\n",
      "ROAD_CLASS           0\n",
      "LATITUDE             0\n",
      "LONGITUDE            0\n",
      "ACCLOC               0\n",
      "VISIBILITY           0\n",
      "LIGHT                0\n",
      "RDSFCOND             0\n",
      "ACCLASS              0\n",
      "IMPACTYPE            0\n",
      "INVAGE               0\n",
      "INJURY               0\n",
      "FATAL_NO             0\n",
      "VEHTYPE              0\n",
      "MANOEUVER            0\n",
      "DRIVACT              0\n",
      "DRIVCOND             0\n",
      "PEDESTRIAN           0\n",
      "CYCLIST              0\n",
      "AUTOMOBILE           0\n",
      "MOTORCYCLE           0\n",
      "TRUCK                0\n",
      "EMERG_VEH            0\n",
      "SPEEDING             0\n",
      "AG_DRIV              0\n",
      "REDLIGHT             0\n",
      "ALCOHOL              0\n",
      "DISABILITY           0\n",
      "NEIGHBOURHOOD_140    0\n",
      "dtype: int64\n"
     ]
    }
   ],
   "source": [
    "# Verify that missing values have been handled\n",
    "print(collision_handled.isnull().sum())"
   ]
  },
  {
   "cell_type": "markdown",
   "id": "59a84d33",
   "metadata": {},
   "source": [
    "All missing (null) values have been dealt with (removed or imputed). Let's also remove all duplicates. "
   ]
  },
  {
   "cell_type": "code",
   "execution_count": 10,
   "id": "38ca4cce",
   "metadata": {},
   "outputs": [],
   "source": [
    "# Remove Duplicates\n",
    "collision.drop_duplicates(inplace=True)"
   ]
  },
  {
   "cell_type": "markdown",
   "id": "56b9eea4",
   "metadata": {},
   "source": [
    "Now let's remove outliers with the Interquartile Range method. "
   ]
  },
  {
   "cell_type": "code",
   "execution_count": 11,
   "id": "53082b7d",
   "metadata": {},
   "outputs": [],
   "source": [
    "# Function to calculate IQR and remove outliers\n",
    "def remove_outliers(collision,column):\n",
    "    Q1 = collision[column].quantile(0.25)  # 25th percentile\n",
    "    Q3 = collision[column].quantile(0.75)  # 75th percentile\n",
    "    IQR = Q3 - Q1                   # Inter-Quartile Range\n",
    "    \n",
    "    # Define lower and upper bounds\n",
    "    lower_bound = Q1 - 1.5 * IQR\n",
    "    upper_bound = Q3 + 1.5 * IQR\n",
    "    \n",
    "    # Filter out rows with outliers\n",
    "    return collision[(collision[column] >= lower_bound) & (collision[column] <= upper_bound)]\n",
    "\n",
    "# List of numeric columns\n",
    "numeric_columns = collision.select_dtypes(include=['float64', 'int64']).columns\n",
    "\n",
    "# Remove outliers using the IQR method\n",
    "for column in numeric_columns:\n",
    "    collision = remove_outliers(collision, column)"
   ]
  },
  {
   "cell_type": "markdown",
   "id": "20626334",
   "metadata": {},
   "source": [
    "That is all for data cleaning, let's see the new size of the dataset."
   ]
  },
  {
   "cell_type": "code",
   "execution_count": 12,
   "id": "16c95d22",
   "metadata": {},
   "outputs": [
    {
     "data": {
      "text/plain": [
       "(972, 30)"
      ]
     },
     "execution_count": 12,
     "metadata": {},
     "output_type": "execute_result"
    }
   ],
   "source": [
    "collision.shape"
   ]
  },
  {
   "cell_type": "code",
   "execution_count": null,
   "id": "930756e8",
   "metadata": {},
   "outputs": [],
   "source": []
  }
 ],
 "metadata": {
  "kernelspec": {
   "display_name": "Python 3",
   "language": "python",
   "name": "python3"
  },
  "language_info": {
   "codemirror_mode": {
    "name": "ipython",
    "version": 3
   },
   "file_extension": ".py",
   "mimetype": "text/x-python",
   "name": "python",
   "nbconvert_exporter": "python",
   "pygments_lexer": "ipython3",
   "version": "3.7.6"
  }
 },
 "nbformat": 4,
 "nbformat_minor": 5
}
